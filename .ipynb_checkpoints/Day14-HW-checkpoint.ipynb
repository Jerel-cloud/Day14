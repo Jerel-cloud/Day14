{
 "cells": [
  {
   "cell_type": "markdown",
   "id": "6ce44393-3036-4c90-904f-1e85718f57fb",
   "metadata": {},
   "source": [
    "## Introduction to Data Science\n",
    "\n",
    "#### University of Redlands - DATA 101\n",
    "#### Prof: Joanna Bieri [joanna_bieri@redlands.edu](mailto:joanna_bieri@redlands.edu)\n",
    "#### [Class Website: data101.joannabieri.com](https://joannabieri.com/data101.html)\n",
    "\n",
    "---------------------------------------\n",
    "# Homework Day 14\n",
    "---------------------------------------\n",
    "\n",
    "GOALS:\n",
    "\n",
    "1. Reflect on Algorithmic bias\n",
    "2. Consider your role in Data Ethics\n",
    "3. Report on your reading.\n",
    "\n",
    "----------------------------------------------------------\n",
    "\n",
    "This homework has **3 questions** and **1 reading report**"
   ]
  },
  {
   "cell_type": "markdown",
   "id": "d0c422e3-32b1-452f-89a8-2586784d3957",
   "metadata": {},
   "source": [
    "## Important Information\n",
    "\n",
    "- Email: [joanna_bieri@redlands.edu](mailto:joanna_bieri@redlands.edu)\n",
    "- Office Hours: Duke 209 <a href=\"https://joannabieri.com/schedule.html\"> Click Here for Joanna's Schedule</a>\n",
    "\n",
    "## Day 14 Assignment - same drill.\n",
    "\n",
    "1. Make sure you can **Fork** and **Clone** the Day14 repo from [Redlands-DATA101](https://github.com/Redlands-DATA101)\n",
    "2. Open the file Day14-HW.ipynb and start doing the problems.\n",
    "    * You can do these problems as you follow along with the lecture notes and video.\n",
    "3. Get as far as you can before class.\n",
    "4. Submit what you have so far **Commit** and **Push** to Git.\n",
    "5. Take the daily check in quiz on **Canvas**.\n",
    "7. Come to class with lots of questions!\n",
    "\n",
    "## If you start having trouble with git!!!\n",
    "\n",
    "Some people have reported that GIT is disappearing or giving errors on when they try to use it in Jupyter Lab. Here is another option for interacting with git:\n",
    "\n",
    "[Git Desktop](https://github.com/apps/desktop)\n",
    "\n",
    "If yous start having errors, try downloading this app. I can show you how to use it in class."
   ]
  },
  {
   "cell_type": "markdown",
   "id": "15fd0fc5-0e82-4265-a328-e906366c4907",
   "metadata": {},
   "source": [
    "## Report on your Data Ethics reading:\n",
    "\n",
    "**Your answers should be written as neatly as possible in Markdown cells**\n",
    "\n",
    "Your homework for today is all essay and written work. Make sure you respond to the three questions in the lecture:\n",
    "\n",
    "**Q1** What is your response to our discussion of bias in algorithms? Talk about the pluses and minuses of using algorithms to make decisions in our human world.\n",
    "\n",
    "**Q2**\n",
    "How do you train yourself to make the right decisions (or reduce the likelihood of accidentally making the wrong decisions) at those points?\n",
    "\n",
    "**Q3**\n",
    "How do you respond when you see bias in someones work? How could you take action to educate others?\n",
    "\n",
    "\n",
    "**Reading Report**\n",
    "\n",
    "Write a report about what you learned from your ethics reading exploration. For each book/article you read:\n",
    "\n",
    "1. Include a full proper reference to the book/article.\n",
    "   * BOOK: Author last name, First name. Book Title: Subtitle. Edition, Publisher, Year.\n",
    "   * ONLINE ARTICLE: Author last name, First name. Article Title. Website name, date accessed. html link.\n",
    "   * [MLA styles for citing other types of online work](https://style.mla.org/works-cited/citations-by-format/online-works/?gad_source=1)\n",
    "2. Write a summary in your own words what the book/article was about. Imagine telling your classmates about what they would learn by reading the article.\n",
    "3. Discuss your own reaction to the book/article. Did it have any effect on how you think about data and ethics? Do you agree with the author? What specific ideas really stood out to you?"
   ]
  },
  {
   "cell_type": "markdown",
   "id": "bf53176f-7926-4d4e-967c-5b5bbd011abe",
   "metadata": {},
   "source": [
    "**Q1**"
   ]
  },
  {
   "cell_type": "markdown",
   "id": "cb2c6330-513f-4d0a-a684-ce2fa307dacb",
   "metadata": {},
   "source": [
    "Algorithms are very important, they are used in almost everything that we do that involves technology from navigating apps to being used in cars to control its speed and direction. While this is true, we can also acknowledge the harmful stereotypes and prejudices that can certain algorithms can be used to perpetuate these. For examples algorithms used in criminal sentencing to predict how likely one is to be a reoffender is negatively skewed in the way of black people being more likely to recommit those crimes than whites."
   ]
  },
  {
   "cell_type": "markdown",
   "id": "6a527f22-684c-4aee-aa4d-afd435a9c996",
   "metadata": {},
   "source": [
    "**Q2**"
   ]
  },
  {
   "cell_type": "markdown",
   "id": "ae291b32-df87-4dc6-bd7a-6c275eb61044",
   "metadata": {},
   "source": [
    "One way is to be empathetic and look at the bigger picture. Ask yourself whos being affected most by these decisions, in what way, and are we reinforcing harmful stereotypes in our decisions. If its a boss that trying to get you to do something that seems unethical, research on laws around the topic and present them to him or his superiors/authorities if need be. Having others Peer review your work to see if it crosses ethical boundaries is another solution as well."
   ]
  },
  {
   "cell_type": "markdown",
   "id": "7335bfa0-82c0-46d7-9734-f4300dedfa54",
   "metadata": {},
   "source": [
    "**Q3**"
   ]
  },
  {
   "cell_type": "markdown",
   "id": "0ffae170-fc70-4dca-99c5-9d6994093753",
   "metadata": {},
   "source": [
    "I would question that person on how they had arrived at that decision and try to get them to understand that they may have a bias(not all biases are intentionally so this could prove very effective in this situation). If the need where to arise and that persons bias was serious, then I would get leadership involved like a manager."
   ]
  },
  {
   "cell_type": "markdown",
   "id": "9ca89bb8-e1ea-4af6-aea6-faf8874deaf2",
   "metadata": {},
   "source": [
    "**Reading Report**"
   ]
  },
  {
   "cell_type": "markdown",
   "id": "f061504e-b923-4a13-b523-121a59a28442",
   "metadata": {},
   "source": [
    "The article in The Ethics of Managing People’s Data. This article goes over a wide range of topics in the realm of data science, from the emergence of A.I and the ethics concerning its usage to the ethics of dating scraping and how the laws around it may seem flimsy. \r\n",
    "The first article that I will be going over is The Ethics of Managing People’s Data written (by Michael Segalla and Dominique Rouziès). It mainly goes over how companies use Artificial Intelligence (A.I) or hope to use A.I to better process data, gaining competitive advantages against other companies. While this does sound to be an amazing opportunity, there's a problem posed on the ethical side of this subject. Unethical business practices such as racism, privacy violations and misuse of data are problems posed with these advances. Having someone or a group of people to oversee the technical side of these technological advancements is key for companies to avoid scandals, fines, lawsuits, and overall loss of trust from the public.\r\n",
    "The author introduced to me very interesting things such as an institutional review board (IRB) and a concept called the five P’s. An IRB is a group of individuals in a company who specialize in the legalities and ethics on the use of gathering of data. Ideally these boards are supposed to be staffed with “a compliance specialist, a data scientist, a business executive familiar with the functional area of the digital projects (such as human resources, marketing, or finance), and one or more senior professionals with appropriate academic credentials. ( (“The Ethics of Managing People's Data”))”. I agree that an IRB should consist of experts from diverse backgrounds in business and tech to more efficiently analyze situations.\r\n",
    " This article also goes in depth on how these scenarios should be studied. The five P’s are methods that highlight ways to efficiently and ethically gather, manage, and analyze data. The five P’s consist of Provenance: The first P being Provenance: guarantees that data is being gathered and sourced. Additionally, draw attention to the risks associated with illegal and improper sourcing, which can lead to consequences, legal and social consequences. Purpose: The original purpose of using the data conveyed with permission requested for new uses of said data. This is done to make sure trust isn’t lost. Protection: the use of good safeguards to prevent unauthorized access and data breaches. Privacy: Information used to identify someone made anonymous to protect their privacy. Preparation: When merging datasets, accuracy is guaranteed and risks are reduced through appropriate data cleansing, anonymization, and validation. I believe that all of these are key components to a solid system in which to make sure data is being used in an ethical way. \r\n",
    "By implementing frameworks such as the Five Ps and putting in place strong control mechanisms, businesses may prioritize ethical standards in data management. In addition to being required by law and morality, handling data ethically is also a competitive benefit for establishing credibility and guaranteeing long-term success.\r\n",
    "\r\n",
    "\r\n",
    "\r\n",
    "\r\n",
    "\r\n",
    "\r\n",
    "\r\n",
    "\r\n",
    "\r\n",
    "\r\n",
    "\r\n",
    "\r\n",
    "\r\n",
    "\r\n",
    "\r\n",
    "\r\n",
    "Work Cited\r\n",
    "“The Ethics of Managing People's Data.” Harvard Business Review, https://hbr.org/2023/07/the-ethics-of-managing-peoples-data. Accessed 5 December 2024."
   ]
  },
  {
   "cell_type": "markdown",
   "id": "c6faae4b-ce39-4695-a87f-99e40bda1322",
   "metadata": {},
   "source": [
    "\n",
    "-------------------------------------------------------\n",
    "\n",
    "## Further watching\n",
    "\n",
    "If you have time, really explore the world of data ethics. You could watch some of the videos linked from class.\n",
    "\n",
    "### Weapons of Math Destruction | Cathy O'Neil | Talks at Google\n",
    "\n",
    "{{< video https://www.youtube.com/watch?v=TQHs8SA1qpk >}}\n",
    "\n",
    "### Imagining a Future Free from the Algorithms of Oppression | Safiya Noble | ACL 2019\n",
    "\n",
    "{{< video https://www.youtube.com/watch?v=tNi_U1Bb1S0 >}}\n",
    "\n",
    "### Whats An Algorithm Got To Do With It\n",
    "\n",
    "{{< video https://www.youtube.com/watch?v=5zxDwA99soA >}}"
   ]
  },
  {
   "cell_type": "code",
   "execution_count": null,
   "id": "d75adfae-6e62-4549-9856-bf7030620521",
   "metadata": {},
   "outputs": [],
   "source": []
  }
 ],
 "metadata": {
  "kernelspec": {
   "display_name": "Python 3 (ipykernel)",
   "language": "python",
   "name": "python3"
  },
  "language_info": {
   "codemirror_mode": {
    "name": "ipython",
    "version": 3
   },
   "file_extension": ".py",
   "mimetype": "text/x-python",
   "name": "python",
   "nbconvert_exporter": "python",
   "pygments_lexer": "ipython3",
   "version": "3.12.3"
  }
 },
 "nbformat": 4,
 "nbformat_minor": 5
}
